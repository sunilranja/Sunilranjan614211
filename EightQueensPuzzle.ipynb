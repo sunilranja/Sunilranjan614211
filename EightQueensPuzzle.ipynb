{
 "cells": [
  {
   "cell_type": "markdown",
   "metadata": {},
   "source": [
    "STEP1: Generate a random number for the Queen movement in the Chess board i.e. 8*8"
   ]
  },
  {
   "cell_type": "code",
   "execution_count": 1,
   "metadata": {
    "collapsed": true
   },
   "outputs": [],
   "source": [
    "import random\n",
    "\n",
    "def random_number(size):  #generate random number\n",
    "    return [ random.randint(1, nq) for _ in range(nq) ]"
   ]
  },
  {
   "cell_type": "markdown",
   "metadata": {},
   "source": [
    "STEP2: A Fitness function is defined to identify how FIT the movement that the Queen will not be dead by collide horizontally or diagonally. The goal is to obtain a 0 dead queens, we could set our fitness function as the inverse of the number of dead queens.\n",
    "\n",
    "Our Try is to reaches a maximum of F=1 (fitness function =1) whenever the number of dead queens is 0."
   ]
  },
  {
   "cell_type": "code",
   "execution_count": 2,
   "metadata": {
    "collapsed": true
   },
   "outputs": [],
   "source": [
    "def fitness(move):\n",
    "    horizontal_collisions = sum([move.count(queen)-1 for queen in move])/2\n",
    "    diagonal_collisions = 0\n",
    "\n",
    "    n = len(move)\n",
    "    left_diagonal = [0] * 2*n\n",
    "    right_diagonal = [0] * 2*n\n",
    "    for i in range(n):\n",
    "        left_diagonal[i + move[i] - 1] += 1\n",
    "        right_diagonal[len(move) - i + move[i] - 2] += 1\n",
    "\n",
    "    diagonal_collisions = 0\n",
    "    for i in range(2*n-1):\n",
    "        counter = 0\n",
    "        if left_diagonal[i] > 1:\n",
    "            counter += left_diagonal[i]-1\n",
    "        if right_diagonal[i] > 1:\n",
    "            counter += right_diagonal[i]-1\n",
    "        diagonal_collisions += counter / (n-abs(i-n+1))\n",
    "    \n",
    "    return int(maxFitness - (horizontal_collisions + diagonal_collisions))"
   ]
  },
  {
   "cell_type": "markdown",
   "metadata": {},
   "source": [
    "Find the probabilty of being choosen directly proportional to maximum fitness.\n",
    "\n",
    "STEP3: Calculate probabilties."
   ]
  },
  {
   "cell_type": "code",
   "execution_count": 3,
   "metadata": {
    "collapsed": true
   },
   "outputs": [],
   "source": [
    "def probability(move, fitness):\n",
    "    return fitness(move) / maxFitness"
   ]
  },
  {
   "cell_type": "markdown",
   "metadata": {},
   "source": [
    "STEP4: Based on probability select two best moves randomly"
   ]
  },
  {
   "cell_type": "code",
   "execution_count": 4,
   "metadata": {
    "collapsed": true
   },
   "outputs": [],
   "source": [
    "def random_sel(pop, prob):\n",
    "    pop_prob = zip(pop, prob)\n",
    "    total = sum(w for c, w in pop_prob)\n",
    "    r = random.uniform(0, total)\n",
    "    upto = 0\n",
    "    for c, w in zip(pop, prob):\n",
    "        if upto + w >= r:\n",
    "            return c\n",
    "        upto += w"
   ]
  },
  {
   "cell_type": "markdown",
   "metadata": {},
   "source": [
    "STEP5: Replicate the selected moves randomly"
   ]
  },
  {
   "cell_type": "code",
   "execution_count": 5,
   "metadata": {
    "collapsed": true
   },
   "outputs": [],
   "source": [
    "def replicate(x, y): \n",
    "    n = len(x)\n",
    "    c = random.randint(0, n - 1)\n",
    "    return x[0:c] + y[c:n]"
   ]
  },
  {
   "cell_type": "markdown",
   "metadata": {},
   "source": [
    "STEP6: Randomly change the value of a random index in the moves"
   ]
  },
  {
   "cell_type": "code",
   "execution_count": 6,
   "metadata": {
    "collapsed": true
   },
   "outputs": [],
   "source": [
    "def convert(x): \n",
    "    n = len(x)\n",
    "    c = random.randint(0, n - 1)\n",
    "    m = random.randint(1, n)\n",
    "    x[c] = m\n",
    "    return x"
   ]
  },
  {
   "cell_type": "markdown",
   "metadata": {},
   "source": [
    "Final Step to identify that no two queens share the same row, column, or diagonal. Placing them in non-attacking queens on an 8×8 chessboard."
   ]
  },
  {
   "cell_type": "code",
   "execution_count": 7,
   "metadata": {
    "collapsed": true
   },
   "outputs": [],
   "source": [
    "def genetic_queen(pop, fitness):\n",
    "    mutation_probability = 0.03\n",
    "    new_pop = []\n",
    "    prob = [probability(n, fitness) for n in pop]\n",
    "    for i in range(len(pop)):\n",
    "        x = random_sel(pop, prob) #best move 1\n",
    "        y = random_sel(pop, prob) #best move 2\n",
    "        child = replicate(x, y) #creating two new moves from the best 2 moves\n",
    "        if random.random() < mutation_probability:\n",
    "            child = convert(child)\n",
    "        print_move(child)\n",
    "        new_pop.append(child)\n",
    "        if fitness(child) == maxFitness: break\n",
    "    return new_pop\n",
    "\n",
    "def print_move(times):\n",
    "    print(\"move = {},  Fitness = {}\"\n",
    "        .format(str(times), fitness(times)))"
   ]
  },
  {
   "cell_type": "markdown",
   "metadata": {},
   "source": [
    "Repeat Step 2 to 6 until a chromosome (solution) with Fitness value = Fmax is found."
   ]
  },
  {
   "cell_type": "code",
   "execution_count": null,
   "metadata": {},
   "outputs": [],
   "source": [
    "if __name__ == \"__main__\":\n",
    "    nq = int(input(\"Enter Number of Queens: \")) #say N = 8\n",
    "    maxFitness = (nq*(nq-1))/2  # 8*7/2 = 28\n",
    "    pop = [random_number(nq) for _ in range(100)]\n",
    "    \n",
    "    generation = 1\n",
    "\n",
    "    while not maxFitness in [fitness(times) for times in pop]:\n",
    "        print(\"=== Generation {} ===\".format(generation))\n",
    "        pop = genetic_queen(pop, fitness)\n",
    "        print(\"\")\n",
    "        print(\"Maximum Fitness = {}\".format(max([fitness(n) for n in pop])))\n",
    "        generation += 1\n",
    "    times_out = []\n",
    "    print(\"Solved in Generation {}!\".format(generation-1))\n",
    "    for times in pop:\n",
    "        if fitness(times) == maxFitness:\n",
    "            print(\"\");\n",
    "            print(\"One of the solutions: \")\n",
    "            times_out = times\n",
    "            print_move(times)\n",
    "            \n",
    "    board = []\n",
    "\n",
    "    for x in range(nq):\n",
    "        board.append([\"x\"] * nq)\n",
    "        \n",
    "    for i in range(nq):\n",
    "        board[nq-times_out[i]][i]=\"Q\"\n",
    "            \n",
    "\n",
    "    def print_board(board):\n",
    "        for row in board:\n",
    "            print (\" \".join(row))\n",
    "            \n",
    "    print()\n",
    "    print_board(board)"
   ]
  },
  {
   "cell_type": "code",
   "execution_count": null,
   "metadata": {
    "collapsed": true
   },
   "outputs": [],
   "source": []
  }
 ],
 "metadata": {
  "kernelspec": {
   "display_name": "Python 3",
   "language": "python",
   "name": "python3"
  },
  "language_info": {
   "codemirror_mode": {
    "name": "ipython",
    "version": 3
   },
   "file_extension": ".py",
   "mimetype": "text/x-python",
   "name": "python",
   "nbconvert_exporter": "python",
   "pygments_lexer": "ipython3",
   "version": "3.6.3"
  }
 },
 "nbformat": 4,
 "nbformat_minor": 2
}
